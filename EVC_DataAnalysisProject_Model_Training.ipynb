{
  "nbformat": 4,
  "nbformat_minor": 0,
  "metadata": {
    "colab": {
      "provenance": [],
      "include_colab_link": true
    },
    "kernelspec": {
      "name": "python3",
      "display_name": "Python 3"
    },
    "language_info": {
      "name": "python"
    }
  },
  "cells": [
    {
      "cell_type": "markdown",
      "metadata": {
        "id": "view-in-github",
        "colab_type": "text"
      },
      "source": [
        "<a href=\"https://colab.research.google.com/github/zain-codes/EVCDataAnalysisProject-kullanaAmen/blob/master/EVC_DataAnalysisProject_Model_Training.ipynb\" target=\"_parent\"><img src=\"https://colab.research.google.com/assets/colab-badge.svg\" alt=\"Open In Colab\"/></a>"
      ]
    },
    {
      "cell_type": "code",
      "source": [
        "import numpy as np\n",
        "import pandas as pd\n",
        "import nltk as nltk\n",
        "import re\n",
        "import string\n",
        "import nltk\n",
        "\n",
        "\n",
        "from nltk.tokenize import word_tokenize\n",
        "nltk.download('punkt')\n",
        "from nltk.corpus import stopwords\n",
        "from nltk.stem import PorterStemmer\n",
        "from sklearn.model_selection import cross_val_score\n",
        "from sklearn.preprocessing import LabelEncoder"
      ],
      "metadata": {
        "colab": {
          "base_uri": "https://localhost:8080/"
        },
        "id": "fx2nVUo_3BwV",
        "outputId": "8d7166d1-d4e3-4454-fbf8-369364ab9670"
      },
      "execution_count": null,
      "outputs": [
        {
          "output_type": "stream",
          "name": "stderr",
          "text": [
            "[nltk_data] Downloading package punkt to /root/nltk_data...\n",
            "[nltk_data]   Unzipping tokenizers/punkt.zip.\n"
          ]
        }
      ]
    },
    {
      "cell_type": "markdown",
      "source": [
        "# Loading Data"
      ],
      "metadata": {
        "id": "1yqPcLbu3RS0"
      }
    },
    {
      "cell_type": "code",
      "execution_count": null,
      "metadata": {
        "id": "KUc2_IcX2SIF"
      },
      "outputs": [],
      "source": [
        "url_car = \"https://raw.githubusercontent.com/zain-codes/EVC-DataAnalysisProject/main/Datasets/car_accidents_reports.csv\"\n",
        "url_crime = \"https://raw.githubusercontent.com/zain-codes/EVC-DataAnalysisProject/main/Datasets/crime_reports.csv\"\n",
        "url_fire = \"https://raw.githubusercontent.com/zain-codes/EVC-DataAnalysisProject/main/Datasets/fire_reports.csv\"\n",
        "url_robbery = \"https://raw.githubusercontent.com/zain-codes/EVC-DataAnalysisProject/main/Datasets/robbery_reports.csv\"\n",
        "\n",
        "df_car = pd.read_csv(url_car)\n",
        "df_crime = pd.read_csv(url_crime)\n",
        "df_fire = pd.read_csv(url_fire)\n",
        "df_robbery = pd.read_csv(url_robbery)"
      ]
    },
    {
      "cell_type": "code",
      "source": [
        "pd.set_option('display.max_colwidth', 500)   # set the column width in the output to 500 charachters"
      ],
      "metadata": {
        "id": "dSLMLk-A3PNm"
      },
      "execution_count": null,
      "outputs": []
    },
    {
      "cell_type": "markdown",
      "source": [
        "# View and Explore Data"
      ],
      "metadata": {
        "id": "0HS09OV93Y1S"
      }
    },
    {
      "cell_type": "code",
      "source": [
        "df_car.shape"
      ],
      "metadata": {
        "colab": {
          "base_uri": "https://localhost:8080/"
        },
        "id": "w-YRvqQs3cbr",
        "outputId": "b82444f2-2ce2-41d3-bd26-1de0406d5569"
      },
      "execution_count": null,
      "outputs": [
        {
          "output_type": "execute_result",
          "data": {
            "text/plain": [
              "(1000, 1)"
            ]
          },
          "metadata": {},
          "execution_count": 4
        }
      ]
    },
    {
      "cell_type": "code",
      "source": [
        "df_crime.shape"
      ],
      "metadata": {
        "colab": {
          "base_uri": "https://localhost:8080/"
        },
        "id": "xyKXRycc3yrx",
        "outputId": "83a06946-0240-43fc-ebf7-2862c71e1e2c"
      },
      "execution_count": null,
      "outputs": [
        {
          "output_type": "execute_result",
          "data": {
            "text/plain": [
              "(1000, 1)"
            ]
          },
          "metadata": {},
          "execution_count": 5
        }
      ]
    },
    {
      "cell_type": "code",
      "source": [
        "df_fire.shape"
      ],
      "metadata": {
        "colab": {
          "base_uri": "https://localhost:8080/"
        },
        "id": "o1dg1NWH3zcd",
        "outputId": "55014e7c-b180-4c92-c097-f7fb987188fb"
      },
      "execution_count": null,
      "outputs": [
        {
          "output_type": "execute_result",
          "data": {
            "text/plain": [
              "(1000, 1)"
            ]
          },
          "metadata": {},
          "execution_count": 6
        }
      ]
    },
    {
      "cell_type": "code",
      "source": [
        "df_robbery.shape"
      ],
      "metadata": {
        "colab": {
          "base_uri": "https://localhost:8080/"
        },
        "id": "8x-5svAP3zQl",
        "outputId": "72cf5570-efd6-46af-aaac-e6f03c996ce1"
      },
      "execution_count": null,
      "outputs": [
        {
          "output_type": "execute_result",
          "data": {
            "text/plain": [
              "(1000, 1)"
            ]
          },
          "metadata": {},
          "execution_count": 7
        }
      ]
    },
    {
      "cell_type": "code",
      "source": [
        "# Adding new column \"label\" to each dataframe\n",
        "df_car.insert(loc=1, column='label', value='car accidents')\n",
        "df_crime.insert(loc=1, column='label', value='crime')\n",
        "df_fire.insert(loc=1, column='label', value='fire')\n",
        "df_robbery.insert(loc=1, column='label', value='robbery')"
      ],
      "metadata": {
        "id": "yv3gb4653_0Z"
      },
      "execution_count": null,
      "outputs": []
    },
    {
      "cell_type": "code",
      "source": [
        "# Concatenate all the 4 dataframe\n",
        "df = pd.concat([df_car, df_crime,df_fire,df_robbery ], axis=0)\n",
        "df.reset_index(drop=True, inplace=True)\n",
        "df.head(100)"
      ],
      "metadata": {
        "colab": {
          "base_uri": "https://localhost:8080/",
          "height": 424
        },
        "id": "DwE2a1FI5_6f",
        "outputId": "6bb53071-1dd0-4c79-d561-f65a9851e3fe"
      },
      "execution_count": null,
      "outputs": [
        {
          "output_type": "execute_result",
          "data": {
            "text/plain": [
              "                                                                                                                                                              Report  \\\n",
              "0                                            This is John Doe from 9999 Ash Street. There's a multi-car pileup on the highway. It looks like there might be injuries   \n",
              "1                                                                        Hello, I'm Jane Smith at 123 Main Street. I've just witnessed a car crash into a shop front   \n",
              "2                                                           Help, I'm Isabella Jackson and I'm calling from 789 Pine Lane. A car just hit a pedestrian and drove off   \n",
              "3                                                       Hello, this is Robert Johnson at 2345 Hickory Street. I just saw a car hit a cyclist. The driver didn't stop   \n",
              "4                                                                           Emergency, this is Olivia Taylor from 789 Pine Lane. I just saw a car crash into a fence   \n",
              "..                                                                                                                                                               ...   \n",
              "95                                                                        Emergency, this is Robert Johnson from 654 Maple Road. I just saw a car crash into a fence   \n",
              "96                                   Help, I'm John Doe and I'm calling from 7777 Hemlock Circle. A car just crashed into a tree. The driver seems to be unconscious   \n",
              "97  Help, I am Ava Thomas and I'm calling from 8765 Juniper Road. A car just crashed into a tree. The driver seems to be unconscious and the car is leaking gasoline   \n",
              "98                         Hello, I'm Harper Anderson at 456 Oak Avenue. I've just witnessed a motorcycle crash. The rider was thrown off and is lying on the ground   \n",
              "99                                                   Help, my name is Mohammed Ali. I'm at 123 Main Street and a truck just lost control and crashed into a building   \n",
              "\n",
              "            label  \n",
              "0   car accidents  \n",
              "1   car accidents  \n",
              "2   car accidents  \n",
              "3   car accidents  \n",
              "4   car accidents  \n",
              "..            ...  \n",
              "95  car accidents  \n",
              "96  car accidents  \n",
              "97  car accidents  \n",
              "98  car accidents  \n",
              "99  car accidents  \n",
              "\n",
              "[100 rows x 2 columns]"
            ],
            "text/html": [
              "\n",
              "\n",
              "  <div id=\"df-4f0a1d09-ce1a-4597-bd1d-c867fb7ef818\">\n",
              "    <div class=\"colab-df-container\">\n",
              "      <div>\n",
              "<style scoped>\n",
              "    .dataframe tbody tr th:only-of-type {\n",
              "        vertical-align: middle;\n",
              "    }\n",
              "\n",
              "    .dataframe tbody tr th {\n",
              "        vertical-align: top;\n",
              "    }\n",
              "\n",
              "    .dataframe thead th {\n",
              "        text-align: right;\n",
              "    }\n",
              "</style>\n",
              "<table border=\"1\" class=\"dataframe\">\n",
              "  <thead>\n",
              "    <tr style=\"text-align: right;\">\n",
              "      <th></th>\n",
              "      <th>Report</th>\n",
              "      <th>label</th>\n",
              "    </tr>\n",
              "  </thead>\n",
              "  <tbody>\n",
              "    <tr>\n",
              "      <th>0</th>\n",
              "      <td>This is John Doe from 9999 Ash Street. There's a multi-car pileup on the highway. It looks like there might be injuries</td>\n",
              "      <td>car accidents</td>\n",
              "    </tr>\n",
              "    <tr>\n",
              "      <th>1</th>\n",
              "      <td>Hello, I'm Jane Smith at 123 Main Street. I've just witnessed a car crash into a shop front</td>\n",
              "      <td>car accidents</td>\n",
              "    </tr>\n",
              "    <tr>\n",
              "      <th>2</th>\n",
              "      <td>Help, I'm Isabella Jackson and I'm calling from 789 Pine Lane. A car just hit a pedestrian and drove off</td>\n",
              "      <td>car accidents</td>\n",
              "    </tr>\n",
              "    <tr>\n",
              "      <th>3</th>\n",
              "      <td>Hello, this is Robert Johnson at 2345 Hickory Street. I just saw a car hit a cyclist. The driver didn't stop</td>\n",
              "      <td>car accidents</td>\n",
              "    </tr>\n",
              "    <tr>\n",
              "      <th>4</th>\n",
              "      <td>Emergency, this is Olivia Taylor from 789 Pine Lane. I just saw a car crash into a fence</td>\n",
              "      <td>car accidents</td>\n",
              "    </tr>\n",
              "    <tr>\n",
              "      <th>...</th>\n",
              "      <td>...</td>\n",
              "      <td>...</td>\n",
              "    </tr>\n",
              "    <tr>\n",
              "      <th>95</th>\n",
              "      <td>Emergency, this is Robert Johnson from 654 Maple Road. I just saw a car crash into a fence</td>\n",
              "      <td>car accidents</td>\n",
              "    </tr>\n",
              "    <tr>\n",
              "      <th>96</th>\n",
              "      <td>Help, I'm John Doe and I'm calling from 7777 Hemlock Circle. A car just crashed into a tree. The driver seems to be unconscious</td>\n",
              "      <td>car accidents</td>\n",
              "    </tr>\n",
              "    <tr>\n",
              "      <th>97</th>\n",
              "      <td>Help, I am Ava Thomas and I'm calling from 8765 Juniper Road. A car just crashed into a tree. The driver seems to be unconscious and the car is leaking gasoline</td>\n",
              "      <td>car accidents</td>\n",
              "    </tr>\n",
              "    <tr>\n",
              "      <th>98</th>\n",
              "      <td>Hello, I'm Harper Anderson at 456 Oak Avenue. I've just witnessed a motorcycle crash. The rider was thrown off and is lying on the ground</td>\n",
              "      <td>car accidents</td>\n",
              "    </tr>\n",
              "    <tr>\n",
              "      <th>99</th>\n",
              "      <td>Help, my name is Mohammed Ali. I'm at 123 Main Street and a truck just lost control and crashed into a building</td>\n",
              "      <td>car accidents</td>\n",
              "    </tr>\n",
              "  </tbody>\n",
              "</table>\n",
              "<p>100 rows × 2 columns</p>\n",
              "</div>\n",
              "      <button class=\"colab-df-convert\" onclick=\"convertToInteractive('df-4f0a1d09-ce1a-4597-bd1d-c867fb7ef818')\"\n",
              "              title=\"Convert this dataframe to an interactive table.\"\n",
              "              style=\"display:none;\">\n",
              "\n",
              "  <svg xmlns=\"http://www.w3.org/2000/svg\" height=\"24px\"viewBox=\"0 0 24 24\"\n",
              "       width=\"24px\">\n",
              "    <path d=\"M0 0h24v24H0V0z\" fill=\"none\"/>\n",
              "    <path d=\"M18.56 5.44l.94 2.06.94-2.06 2.06-.94-2.06-.94-.94-2.06-.94 2.06-2.06.94zm-11 1L8.5 8.5l.94-2.06 2.06-.94-2.06-.94L8.5 2.5l-.94 2.06-2.06.94zm10 10l.94 2.06.94-2.06 2.06-.94-2.06-.94-.94-2.06-.94 2.06-2.06.94z\"/><path d=\"M17.41 7.96l-1.37-1.37c-.4-.4-.92-.59-1.43-.59-.52 0-1.04.2-1.43.59L10.3 9.45l-7.72 7.72c-.78.78-.78 2.05 0 2.83L4 21.41c.39.39.9.59 1.41.59.51 0 1.02-.2 1.41-.59l7.78-7.78 2.81-2.81c.8-.78.8-2.07 0-2.86zM5.41 20L4 18.59l7.72-7.72 1.47 1.35L5.41 20z\"/>\n",
              "  </svg>\n",
              "      </button>\n",
              "\n",
              "\n",
              "\n",
              "    <div id=\"df-f16e96b4-66eb-413d-be5b-975281fc4d14\">\n",
              "      <button class=\"colab-df-quickchart\" onclick=\"quickchart('df-f16e96b4-66eb-413d-be5b-975281fc4d14')\"\n",
              "              title=\"Suggest charts.\"\n",
              "              style=\"display:none;\">\n",
              "\n",
              "<svg xmlns=\"http://www.w3.org/2000/svg\" height=\"24px\"viewBox=\"0 0 24 24\"\n",
              "     width=\"24px\">\n",
              "    <g>\n",
              "        <path d=\"M19 3H5c-1.1 0-2 .9-2 2v14c0 1.1.9 2 2 2h14c1.1 0 2-.9 2-2V5c0-1.1-.9-2-2-2zM9 17H7v-7h2v7zm4 0h-2V7h2v10zm4 0h-2v-4h2v4z\"/>\n",
              "    </g>\n",
              "</svg>\n",
              "      </button>\n",
              "    </div>\n",
              "\n",
              "<style>\n",
              "  .colab-df-quickchart {\n",
              "    background-color: #E8F0FE;\n",
              "    border: none;\n",
              "    border-radius: 50%;\n",
              "    cursor: pointer;\n",
              "    display: none;\n",
              "    fill: #1967D2;\n",
              "    height: 32px;\n",
              "    padding: 0 0 0 0;\n",
              "    width: 32px;\n",
              "  }\n",
              "\n",
              "  .colab-df-quickchart:hover {\n",
              "    background-color: #E2EBFA;\n",
              "    box-shadow: 0px 1px 2px rgba(60, 64, 67, 0.3), 0px 1px 3px 1px rgba(60, 64, 67, 0.15);\n",
              "    fill: #174EA6;\n",
              "  }\n",
              "\n",
              "  [theme=dark] .colab-df-quickchart {\n",
              "    background-color: #3B4455;\n",
              "    fill: #D2E3FC;\n",
              "  }\n",
              "\n",
              "  [theme=dark] .colab-df-quickchart:hover {\n",
              "    background-color: #434B5C;\n",
              "    box-shadow: 0px 1px 3px 1px rgba(0, 0, 0, 0.15);\n",
              "    filter: drop-shadow(0px 1px 2px rgba(0, 0, 0, 0.3));\n",
              "    fill: #FFFFFF;\n",
              "  }\n",
              "</style>\n",
              "\n",
              "    <script>\n",
              "      async function quickchart(key) {\n",
              "        const containerElement = document.querySelector('#' + key);\n",
              "        const charts = await google.colab.kernel.invokeFunction(\n",
              "            'suggestCharts', [key], {});\n",
              "      }\n",
              "    </script>\n",
              "\n",
              "      <script>\n",
              "\n",
              "function displayQuickchartButton(domScope) {\n",
              "  let quickchartButtonEl =\n",
              "    domScope.querySelector('#df-f16e96b4-66eb-413d-be5b-975281fc4d14 button.colab-df-quickchart');\n",
              "  quickchartButtonEl.style.display =\n",
              "    google.colab.kernel.accessAllowed ? 'block' : 'none';\n",
              "}\n",
              "\n",
              "        displayQuickchartButton(document);\n",
              "      </script>\n",
              "      <style>\n",
              "    .colab-df-container {\n",
              "      display:flex;\n",
              "      flex-wrap:wrap;\n",
              "      gap: 12px;\n",
              "    }\n",
              "\n",
              "    .colab-df-convert {\n",
              "      background-color: #E8F0FE;\n",
              "      border: none;\n",
              "      border-radius: 50%;\n",
              "      cursor: pointer;\n",
              "      display: none;\n",
              "      fill: #1967D2;\n",
              "      height: 32px;\n",
              "      padding: 0 0 0 0;\n",
              "      width: 32px;\n",
              "    }\n",
              "\n",
              "    .colab-df-convert:hover {\n",
              "      background-color: #E2EBFA;\n",
              "      box-shadow: 0px 1px 2px rgba(60, 64, 67, 0.3), 0px 1px 3px 1px rgba(60, 64, 67, 0.15);\n",
              "      fill: #174EA6;\n",
              "    }\n",
              "\n",
              "    [theme=dark] .colab-df-convert {\n",
              "      background-color: #3B4455;\n",
              "      fill: #D2E3FC;\n",
              "    }\n",
              "\n",
              "    [theme=dark] .colab-df-convert:hover {\n",
              "      background-color: #434B5C;\n",
              "      box-shadow: 0px 1px 3px 1px rgba(0, 0, 0, 0.15);\n",
              "      filter: drop-shadow(0px 1px 2px rgba(0, 0, 0, 0.3));\n",
              "      fill: #FFFFFF;\n",
              "    }\n",
              "  </style>\n",
              "\n",
              "      <script>\n",
              "        const buttonEl =\n",
              "          document.querySelector('#df-4f0a1d09-ce1a-4597-bd1d-c867fb7ef818 button.colab-df-convert');\n",
              "        buttonEl.style.display =\n",
              "          google.colab.kernel.accessAllowed ? 'block' : 'none';\n",
              "\n",
              "        async function convertToInteractive(key) {\n",
              "          const element = document.querySelector('#df-4f0a1d09-ce1a-4597-bd1d-c867fb7ef818');\n",
              "          const dataTable =\n",
              "            await google.colab.kernel.invokeFunction('convertToInteractive',\n",
              "                                                     [key], {});\n",
              "          if (!dataTable) return;\n",
              "\n",
              "          const docLinkHtml = 'Like what you see? Visit the ' +\n",
              "            '<a target=\"_blank\" href=https://colab.research.google.com/notebooks/data_table.ipynb>data table notebook</a>'\n",
              "            + ' to learn more about interactive tables.';\n",
              "          element.innerHTML = '';\n",
              "          dataTable['output_type'] = 'display_data';\n",
              "          await google.colab.output.renderOutput(dataTable, element);\n",
              "          const docLink = document.createElement('div');\n",
              "          docLink.innerHTML = docLinkHtml;\n",
              "          element.appendChild(docLink);\n",
              "        }\n",
              "      </script>\n",
              "    </div>\n",
              "  </div>\n"
            ]
          },
          "metadata": {},
          "execution_count": 9
        }
      ]
    },
    {
      "cell_type": "code",
      "source": [
        "df.shape"
      ],
      "metadata": {
        "colab": {
          "base_uri": "https://localhost:8080/"
        },
        "id": "cAIURHA46P-P",
        "outputId": "85f2af17-3f01-4657-f04c-3829fc62664c"
      },
      "execution_count": null,
      "outputs": [
        {
          "output_type": "execute_result",
          "data": {
            "text/plain": [
              "(4000, 2)"
            ]
          },
          "metadata": {},
          "execution_count": 10
        }
      ]
    },
    {
      "cell_type": "code",
      "source": [
        "df.describe()"
      ],
      "metadata": {
        "colab": {
          "base_uri": "https://localhost:8080/",
          "height": 175
        },
        "id": "639JIWii6XYq",
        "outputId": "950edc35-54f4-4e1d-a71b-8df219482409"
      },
      "execution_count": null,
      "outputs": [
        {
          "output_type": "execute_result",
          "data": {
            "text/plain": [
              "                                                                                                              Report  \\\n",
              "count                                                                                                           4000   \n",
              "unique                                                                                                          3796   \n",
              "top     Emergency, this is Emily Davis from 7777 Hemlock Circle. I just saw a group of people robbing a liquor store   \n",
              "freq                                                                                                               3   \n",
              "\n",
              "                label  \n",
              "count            4000  \n",
              "unique              4  \n",
              "top     car accidents  \n",
              "freq             1000  "
            ],
            "text/html": [
              "\n",
              "\n",
              "  <div id=\"df-4709cc3f-893d-42fa-9d53-7d2a95339e76\">\n",
              "    <div class=\"colab-df-container\">\n",
              "      <div>\n",
              "<style scoped>\n",
              "    .dataframe tbody tr th:only-of-type {\n",
              "        vertical-align: middle;\n",
              "    }\n",
              "\n",
              "    .dataframe tbody tr th {\n",
              "        vertical-align: top;\n",
              "    }\n",
              "\n",
              "    .dataframe thead th {\n",
              "        text-align: right;\n",
              "    }\n",
              "</style>\n",
              "<table border=\"1\" class=\"dataframe\">\n",
              "  <thead>\n",
              "    <tr style=\"text-align: right;\">\n",
              "      <th></th>\n",
              "      <th>Report</th>\n",
              "      <th>label</th>\n",
              "    </tr>\n",
              "  </thead>\n",
              "  <tbody>\n",
              "    <tr>\n",
              "      <th>count</th>\n",
              "      <td>4000</td>\n",
              "      <td>4000</td>\n",
              "    </tr>\n",
              "    <tr>\n",
              "      <th>unique</th>\n",
              "      <td>3796</td>\n",
              "      <td>4</td>\n",
              "    </tr>\n",
              "    <tr>\n",
              "      <th>top</th>\n",
              "      <td>Emergency, this is Emily Davis from 7777 Hemlock Circle. I just saw a group of people robbing a liquor store</td>\n",
              "      <td>car accidents</td>\n",
              "    </tr>\n",
              "    <tr>\n",
              "      <th>freq</th>\n",
              "      <td>3</td>\n",
              "      <td>1000</td>\n",
              "    </tr>\n",
              "  </tbody>\n",
              "</table>\n",
              "</div>\n",
              "      <button class=\"colab-df-convert\" onclick=\"convertToInteractive('df-4709cc3f-893d-42fa-9d53-7d2a95339e76')\"\n",
              "              title=\"Convert this dataframe to an interactive table.\"\n",
              "              style=\"display:none;\">\n",
              "\n",
              "  <svg xmlns=\"http://www.w3.org/2000/svg\" height=\"24px\"viewBox=\"0 0 24 24\"\n",
              "       width=\"24px\">\n",
              "    <path d=\"M0 0h24v24H0V0z\" fill=\"none\"/>\n",
              "    <path d=\"M18.56 5.44l.94 2.06.94-2.06 2.06-.94-2.06-.94-.94-2.06-.94 2.06-2.06.94zm-11 1L8.5 8.5l.94-2.06 2.06-.94-2.06-.94L8.5 2.5l-.94 2.06-2.06.94zm10 10l.94 2.06.94-2.06 2.06-.94-2.06-.94-.94-2.06-.94 2.06-2.06.94z\"/><path d=\"M17.41 7.96l-1.37-1.37c-.4-.4-.92-.59-1.43-.59-.52 0-1.04.2-1.43.59L10.3 9.45l-7.72 7.72c-.78.78-.78 2.05 0 2.83L4 21.41c.39.39.9.59 1.41.59.51 0 1.02-.2 1.41-.59l7.78-7.78 2.81-2.81c.8-.78.8-2.07 0-2.86zM5.41 20L4 18.59l7.72-7.72 1.47 1.35L5.41 20z\"/>\n",
              "  </svg>\n",
              "      </button>\n",
              "\n",
              "\n",
              "\n",
              "    <div id=\"df-710cf440-3c97-4e77-8b57-2c97ee2224d7\">\n",
              "      <button class=\"colab-df-quickchart\" onclick=\"quickchart('df-710cf440-3c97-4e77-8b57-2c97ee2224d7')\"\n",
              "              title=\"Suggest charts.\"\n",
              "              style=\"display:none;\">\n",
              "\n",
              "<svg xmlns=\"http://www.w3.org/2000/svg\" height=\"24px\"viewBox=\"0 0 24 24\"\n",
              "     width=\"24px\">\n",
              "    <g>\n",
              "        <path d=\"M19 3H5c-1.1 0-2 .9-2 2v14c0 1.1.9 2 2 2h14c1.1 0 2-.9 2-2V5c0-1.1-.9-2-2-2zM9 17H7v-7h2v7zm4 0h-2V7h2v10zm4 0h-2v-4h2v4z\"/>\n",
              "    </g>\n",
              "</svg>\n",
              "      </button>\n",
              "    </div>\n",
              "\n",
              "<style>\n",
              "  .colab-df-quickchart {\n",
              "    background-color: #E8F0FE;\n",
              "    border: none;\n",
              "    border-radius: 50%;\n",
              "    cursor: pointer;\n",
              "    display: none;\n",
              "    fill: #1967D2;\n",
              "    height: 32px;\n",
              "    padding: 0 0 0 0;\n",
              "    width: 32px;\n",
              "  }\n",
              "\n",
              "  .colab-df-quickchart:hover {\n",
              "    background-color: #E2EBFA;\n",
              "    box-shadow: 0px 1px 2px rgba(60, 64, 67, 0.3), 0px 1px 3px 1px rgba(60, 64, 67, 0.15);\n",
              "    fill: #174EA6;\n",
              "  }\n",
              "\n",
              "  [theme=dark] .colab-df-quickchart {\n",
              "    background-color: #3B4455;\n",
              "    fill: #D2E3FC;\n",
              "  }\n",
              "\n",
              "  [theme=dark] .colab-df-quickchart:hover {\n",
              "    background-color: #434B5C;\n",
              "    box-shadow: 0px 1px 3px 1px rgba(0, 0, 0, 0.15);\n",
              "    filter: drop-shadow(0px 1px 2px rgba(0, 0, 0, 0.3));\n",
              "    fill: #FFFFFF;\n",
              "  }\n",
              "</style>\n",
              "\n",
              "    <script>\n",
              "      async function quickchart(key) {\n",
              "        const containerElement = document.querySelector('#' + key);\n",
              "        const charts = await google.colab.kernel.invokeFunction(\n",
              "            'suggestCharts', [key], {});\n",
              "      }\n",
              "    </script>\n",
              "\n",
              "      <script>\n",
              "\n",
              "function displayQuickchartButton(domScope) {\n",
              "  let quickchartButtonEl =\n",
              "    domScope.querySelector('#df-710cf440-3c97-4e77-8b57-2c97ee2224d7 button.colab-df-quickchart');\n",
              "  quickchartButtonEl.style.display =\n",
              "    google.colab.kernel.accessAllowed ? 'block' : 'none';\n",
              "}\n",
              "\n",
              "        displayQuickchartButton(document);\n",
              "      </script>\n",
              "      <style>\n",
              "    .colab-df-container {\n",
              "      display:flex;\n",
              "      flex-wrap:wrap;\n",
              "      gap: 12px;\n",
              "    }\n",
              "\n",
              "    .colab-df-convert {\n",
              "      background-color: #E8F0FE;\n",
              "      border: none;\n",
              "      border-radius: 50%;\n",
              "      cursor: pointer;\n",
              "      display: none;\n",
              "      fill: #1967D2;\n",
              "      height: 32px;\n",
              "      padding: 0 0 0 0;\n",
              "      width: 32px;\n",
              "    }\n",
              "\n",
              "    .colab-df-convert:hover {\n",
              "      background-color: #E2EBFA;\n",
              "      box-shadow: 0px 1px 2px rgba(60, 64, 67, 0.3), 0px 1px 3px 1px rgba(60, 64, 67, 0.15);\n",
              "      fill: #174EA6;\n",
              "    }\n",
              "\n",
              "    [theme=dark] .colab-df-convert {\n",
              "      background-color: #3B4455;\n",
              "      fill: #D2E3FC;\n",
              "    }\n",
              "\n",
              "    [theme=dark] .colab-df-convert:hover {\n",
              "      background-color: #434B5C;\n",
              "      box-shadow: 0px 1px 3px 1px rgba(0, 0, 0, 0.15);\n",
              "      filter: drop-shadow(0px 1px 2px rgba(0, 0, 0, 0.3));\n",
              "      fill: #FFFFFF;\n",
              "    }\n",
              "  </style>\n",
              "\n",
              "      <script>\n",
              "        const buttonEl =\n",
              "          document.querySelector('#df-4709cc3f-893d-42fa-9d53-7d2a95339e76 button.colab-df-convert');\n",
              "        buttonEl.style.display =\n",
              "          google.colab.kernel.accessAllowed ? 'block' : 'none';\n",
              "\n",
              "        async function convertToInteractive(key) {\n",
              "          const element = document.querySelector('#df-4709cc3f-893d-42fa-9d53-7d2a95339e76');\n",
              "          const dataTable =\n",
              "            await google.colab.kernel.invokeFunction('convertToInteractive',\n",
              "                                                     [key], {});\n",
              "          if (!dataTable) return;\n",
              "\n",
              "          const docLinkHtml = 'Like what you see? Visit the ' +\n",
              "            '<a target=\"_blank\" href=https://colab.research.google.com/notebooks/data_table.ipynb>data table notebook</a>'\n",
              "            + ' to learn more about interactive tables.';\n",
              "          element.innerHTML = '';\n",
              "          dataTable['output_type'] = 'display_data';\n",
              "          await google.colab.output.renderOutput(dataTable, element);\n",
              "          const docLink = document.createElement('div');\n",
              "          docLink.innerHTML = docLinkHtml;\n",
              "          element.appendChild(docLink);\n",
              "        }\n",
              "      </script>\n",
              "    </div>\n",
              "  </div>\n"
            ]
          },
          "metadata": {},
          "execution_count": 11
        }
      ]
    },
    {
      "cell_type": "code",
      "source": [
        "df.label.value_counts()"
      ],
      "metadata": {
        "colab": {
          "base_uri": "https://localhost:8080/"
        },
        "id": "kMdCeeWH7L3j",
        "outputId": "0f738394-07c2-454d-cc98-3c9512bdcb54"
      },
      "execution_count": null,
      "outputs": [
        {
          "output_type": "execute_result",
          "data": {
            "text/plain": [
              "car accidents    1000\n",
              "crime            1000\n",
              "fire             1000\n",
              "robbery          1000\n",
              "Name: label, dtype: int64"
            ]
          },
          "metadata": {},
          "execution_count": 12
        }
      ]
    },
    {
      "cell_type": "code",
      "source": [
        "# check the data types of each column\n",
        "print(df.dtypes)"
      ],
      "metadata": {
        "colab": {
          "base_uri": "https://localhost:8080/"
        },
        "id": "d3x0HJdhD5dW",
        "outputId": "32ae4a68-277a-4bab-e8ff-80b25f70482f"
      },
      "execution_count": null,
      "outputs": [
        {
          "output_type": "stream",
          "name": "stdout",
          "text": [
            "Report    object\n",
            "label     object\n",
            "dtype: object\n"
          ]
        }
      ]
    },
    {
      "cell_type": "markdown",
      "source": [
        "# Cleaning Data"
      ],
      "metadata": {
        "id": "7N4E8FN18DfS"
      }
    },
    {
      "cell_type": "code",
      "source": [
        "# Check for missing values again\n",
        "print(\"Number of missing values in each column:\")\n",
        "print(df.isnull().sum())"
      ],
      "metadata": {
        "colab": {
          "base_uri": "https://localhost:8080/"
        },
        "id": "ku2efNIqIsDv",
        "outputId": "8ef558b3-2144-48fc-fd47-b6893c270f05"
      },
      "execution_count": null,
      "outputs": [
        {
          "output_type": "stream",
          "name": "stdout",
          "text": [
            "Number of missing values in each column:\n",
            "Report    0\n",
            "label     0\n",
            "dtype: int64\n"
          ]
        }
      ]
    },
    {
      "cell_type": "code",
      "source": [
        "def clean_text(text):\n",
        "\n",
        "    # remove punct\n",
        "    punctuation_re = re.compile('[%s]' % re.escape(string.punctuation))\n",
        "    no_punc = punctuation_re.sub('', text)\n",
        "\n",
        "    # convert to lowercase\n",
        "    lower_text = no_punc.lower()\n",
        "\n",
        "    # remove numbers\n",
        "    number_re = re.compile(r'\\d+')\n",
        "    no_numbers = number_re.sub('', lower_text)\n",
        "\n",
        "    # tokenize\n",
        "    tokens = nltk.word_tokenize(no_numbers)\n",
        "\n",
        "    # stopwords\n",
        "    stop_words = stopwords.words('english')\n",
        "    no_stop = [token for token in tokens if token not in stop_words]\n",
        "\n",
        "    # Stemming\n",
        "    stemmer = PorterStemmer()\n",
        "    stemmed = [stemmer.stem(token) for token in no_stop]\n",
        "\n",
        "    return ' '.join(stemmed)"
      ],
      "metadata": {
        "id": "0njSMPr-8PVF"
      },
      "execution_count": null,
      "outputs": []
    },
    {
      "cell_type": "code",
      "source": [
        "nltk.download('stopwords')"
      ],
      "metadata": {
        "colab": {
          "base_uri": "https://localhost:8080/"
        },
        "id": "7MO-6PS8sNp-",
        "outputId": "9c60b7c3-383d-4f85-c506-2307576e2f2f"
      },
      "execution_count": null,
      "outputs": [
        {
          "output_type": "stream",
          "name": "stderr",
          "text": [
            "[nltk_data] Downloading package stopwords to /root/nltk_data...\n",
            "[nltk_data]   Unzipping corpora/stopwords.zip.\n"
          ]
        },
        {
          "output_type": "execute_result",
          "data": {
            "text/plain": [
              "True"
            ]
          },
          "metadata": {},
          "execution_count": 16
        }
      ]
    },
    {
      "cell_type": "code",
      "source": [
        "df['clean_text'] = df['Report'].apply(lambda x: clean_text(x))\n",
        "df"
      ],
      "metadata": {
        "colab": {
          "base_uri": "https://localhost:8080/",
          "height": 572
        },
        "id": "q-x_W8oV9YOL",
        "outputId": "eed070fa-deef-4020-d40c-0bdaa9bc6c94"
      },
      "execution_count": null,
      "outputs": [
        {
          "output_type": "execute_result",
          "data": {
            "text/plain": [
              "                                                                                                                                                                                                               Report  \\\n",
              "0                                                                                             This is John Doe from 9999 Ash Street. There's a multi-car pileup on the highway. It looks like there might be injuries   \n",
              "1                                                                                                                         Hello, I'm Jane Smith at 123 Main Street. I've just witnessed a car crash into a shop front   \n",
              "2                                                                                                            Help, I'm Isabella Jackson and I'm calling from 789 Pine Lane. A car just hit a pedestrian and drove off   \n",
              "3                                                                                                        Hello, this is Robert Johnson at 2345 Hickory Street. I just saw a car hit a cyclist. The driver didn't stop   \n",
              "4                                                                                                                            Emergency, this is Olivia Taylor from 789 Pine Lane. I just saw a car crash into a fence   \n",
              "...                                                                                                                                                                                                               ...   \n",
              "3995                                                                                                 Emergency, this is Amelia Thompson from 7777 Hemlock Circle. I just saw a group of people robbing a liquor store   \n",
              "3996                                                                                                                        Help, my name is James Brown. I'm at 5555 Walnut Street and my house was just broken into   \n",
              "3997                                                                                  Help, my name is Liam Williams. I'm at 8888 Alder Court and my purse was just snatched. A man on a bike grabbed it and rode off   \n",
              "3998  This is Emily Davis from 3456 Locust Way. I work at the bank and we've just been robbed. A man with a gun demanded all the money and then he fled the scene. I'm scared for my life and I don't know what to do   \n",
              "3999                                                                                                             Help, I'm Charlotte Martin and I'm calling from 1289 Birch Parkway. I just saw a man stealing a bike   \n",
              "\n",
              "              label  \\\n",
              "0     car accidents   \n",
              "1     car accidents   \n",
              "2     car accidents   \n",
              "3     car accidents   \n",
              "4     car accidents   \n",
              "...             ...   \n",
              "3995        robbery   \n",
              "3996        robbery   \n",
              "3997        robbery   \n",
              "3998        robbery   \n",
              "3999        robbery   \n",
              "\n",
              "                                                                                            clean_text  \n",
              "0                             john doe ash street there multicar pileup highway look like might injuri  \n",
              "1                                         hello im jane smith main street ive wit car crash shop front  \n",
              "2                                  help im isabella jackson im call pine lane car hit pedestrian drove  \n",
              "3                            hello robert johnson hickori street saw car hit cyclist driver didnt stop  \n",
              "4                                                     emerg olivia taylor pine lane saw car crash fenc  \n",
              "...                                                                                                ...  \n",
              "3995                              emerg amelia thompson hemlock circl saw group peopl rob liquor store  \n",
              "3996                                                 help name jame brown im walnut street hous broken  \n",
              "3997                              help name liam william im alder court purs snatch man bike grab rode  \n",
              "3998  emili davi locust way work bank weve rob man gun demand money fled scene im scare life dont know  \n",
              "3999                                  help im charlott martin im call birch parkway saw man steal bike  \n",
              "\n",
              "[4000 rows x 3 columns]"
            ],
            "text/html": [
              "\n",
              "\n",
              "  <div id=\"df-2b941cfb-8948-462d-9792-849a96208a0c\">\n",
              "    <div class=\"colab-df-container\">\n",
              "      <div>\n",
              "<style scoped>\n",
              "    .dataframe tbody tr th:only-of-type {\n",
              "        vertical-align: middle;\n",
              "    }\n",
              "\n",
              "    .dataframe tbody tr th {\n",
              "        vertical-align: top;\n",
              "    }\n",
              "\n",
              "    .dataframe thead th {\n",
              "        text-align: right;\n",
              "    }\n",
              "</style>\n",
              "<table border=\"1\" class=\"dataframe\">\n",
              "  <thead>\n",
              "    <tr style=\"text-align: right;\">\n",
              "      <th></th>\n",
              "      <th>Report</th>\n",
              "      <th>label</th>\n",
              "      <th>clean_text</th>\n",
              "    </tr>\n",
              "  </thead>\n",
              "  <tbody>\n",
              "    <tr>\n",
              "      <th>0</th>\n",
              "      <td>This is John Doe from 9999 Ash Street. There's a multi-car pileup on the highway. It looks like there might be injuries</td>\n",
              "      <td>car accidents</td>\n",
              "      <td>john doe ash street there multicar pileup highway look like might injuri</td>\n",
              "    </tr>\n",
              "    <tr>\n",
              "      <th>1</th>\n",
              "      <td>Hello, I'm Jane Smith at 123 Main Street. I've just witnessed a car crash into a shop front</td>\n",
              "      <td>car accidents</td>\n",
              "      <td>hello im jane smith main street ive wit car crash shop front</td>\n",
              "    </tr>\n",
              "    <tr>\n",
              "      <th>2</th>\n",
              "      <td>Help, I'm Isabella Jackson and I'm calling from 789 Pine Lane. A car just hit a pedestrian and drove off</td>\n",
              "      <td>car accidents</td>\n",
              "      <td>help im isabella jackson im call pine lane car hit pedestrian drove</td>\n",
              "    </tr>\n",
              "    <tr>\n",
              "      <th>3</th>\n",
              "      <td>Hello, this is Robert Johnson at 2345 Hickory Street. I just saw a car hit a cyclist. The driver didn't stop</td>\n",
              "      <td>car accidents</td>\n",
              "      <td>hello robert johnson hickori street saw car hit cyclist driver didnt stop</td>\n",
              "    </tr>\n",
              "    <tr>\n",
              "      <th>4</th>\n",
              "      <td>Emergency, this is Olivia Taylor from 789 Pine Lane. I just saw a car crash into a fence</td>\n",
              "      <td>car accidents</td>\n",
              "      <td>emerg olivia taylor pine lane saw car crash fenc</td>\n",
              "    </tr>\n",
              "    <tr>\n",
              "      <th>...</th>\n",
              "      <td>...</td>\n",
              "      <td>...</td>\n",
              "      <td>...</td>\n",
              "    </tr>\n",
              "    <tr>\n",
              "      <th>3995</th>\n",
              "      <td>Emergency, this is Amelia Thompson from 7777 Hemlock Circle. I just saw a group of people robbing a liquor store</td>\n",
              "      <td>robbery</td>\n",
              "      <td>emerg amelia thompson hemlock circl saw group peopl rob liquor store</td>\n",
              "    </tr>\n",
              "    <tr>\n",
              "      <th>3996</th>\n",
              "      <td>Help, my name is James Brown. I'm at 5555 Walnut Street and my house was just broken into</td>\n",
              "      <td>robbery</td>\n",
              "      <td>help name jame brown im walnut street hous broken</td>\n",
              "    </tr>\n",
              "    <tr>\n",
              "      <th>3997</th>\n",
              "      <td>Help, my name is Liam Williams. I'm at 8888 Alder Court and my purse was just snatched. A man on a bike grabbed it and rode off</td>\n",
              "      <td>robbery</td>\n",
              "      <td>help name liam william im alder court purs snatch man bike grab rode</td>\n",
              "    </tr>\n",
              "    <tr>\n",
              "      <th>3998</th>\n",
              "      <td>This is Emily Davis from 3456 Locust Way. I work at the bank and we've just been robbed. A man with a gun demanded all the money and then he fled the scene. I'm scared for my life and I don't know what to do</td>\n",
              "      <td>robbery</td>\n",
              "      <td>emili davi locust way work bank weve rob man gun demand money fled scene im scare life dont know</td>\n",
              "    </tr>\n",
              "    <tr>\n",
              "      <th>3999</th>\n",
              "      <td>Help, I'm Charlotte Martin and I'm calling from 1289 Birch Parkway. I just saw a man stealing a bike</td>\n",
              "      <td>robbery</td>\n",
              "      <td>help im charlott martin im call birch parkway saw man steal bike</td>\n",
              "    </tr>\n",
              "  </tbody>\n",
              "</table>\n",
              "<p>4000 rows × 3 columns</p>\n",
              "</div>\n",
              "      <button class=\"colab-df-convert\" onclick=\"convertToInteractive('df-2b941cfb-8948-462d-9792-849a96208a0c')\"\n",
              "              title=\"Convert this dataframe to an interactive table.\"\n",
              "              style=\"display:none;\">\n",
              "\n",
              "  <svg xmlns=\"http://www.w3.org/2000/svg\" height=\"24px\"viewBox=\"0 0 24 24\"\n",
              "       width=\"24px\">\n",
              "    <path d=\"M0 0h24v24H0V0z\" fill=\"none\"/>\n",
              "    <path d=\"M18.56 5.44l.94 2.06.94-2.06 2.06-.94-2.06-.94-.94-2.06-.94 2.06-2.06.94zm-11 1L8.5 8.5l.94-2.06 2.06-.94-2.06-.94L8.5 2.5l-.94 2.06-2.06.94zm10 10l.94 2.06.94-2.06 2.06-.94-2.06-.94-.94-2.06-.94 2.06-2.06.94z\"/><path d=\"M17.41 7.96l-1.37-1.37c-.4-.4-.92-.59-1.43-.59-.52 0-1.04.2-1.43.59L10.3 9.45l-7.72 7.72c-.78.78-.78 2.05 0 2.83L4 21.41c.39.39.9.59 1.41.59.51 0 1.02-.2 1.41-.59l7.78-7.78 2.81-2.81c.8-.78.8-2.07 0-2.86zM5.41 20L4 18.59l7.72-7.72 1.47 1.35L5.41 20z\"/>\n",
              "  </svg>\n",
              "      </button>\n",
              "\n",
              "\n",
              "\n",
              "    <div id=\"df-28b4337f-fa08-42fc-a0f7-a50f21cce5a5\">\n",
              "      <button class=\"colab-df-quickchart\" onclick=\"quickchart('df-28b4337f-fa08-42fc-a0f7-a50f21cce5a5')\"\n",
              "              title=\"Suggest charts.\"\n",
              "              style=\"display:none;\">\n",
              "\n",
              "<svg xmlns=\"http://www.w3.org/2000/svg\" height=\"24px\"viewBox=\"0 0 24 24\"\n",
              "     width=\"24px\">\n",
              "    <g>\n",
              "        <path d=\"M19 3H5c-1.1 0-2 .9-2 2v14c0 1.1.9 2 2 2h14c1.1 0 2-.9 2-2V5c0-1.1-.9-2-2-2zM9 17H7v-7h2v7zm4 0h-2V7h2v10zm4 0h-2v-4h2v4z\"/>\n",
              "    </g>\n",
              "</svg>\n",
              "      </button>\n",
              "    </div>\n",
              "\n",
              "<style>\n",
              "  .colab-df-quickchart {\n",
              "    background-color: #E8F0FE;\n",
              "    border: none;\n",
              "    border-radius: 50%;\n",
              "    cursor: pointer;\n",
              "    display: none;\n",
              "    fill: #1967D2;\n",
              "    height: 32px;\n",
              "    padding: 0 0 0 0;\n",
              "    width: 32px;\n",
              "  }\n",
              "\n",
              "  .colab-df-quickchart:hover {\n",
              "    background-color: #E2EBFA;\n",
              "    box-shadow: 0px 1px 2px rgba(60, 64, 67, 0.3), 0px 1px 3px 1px rgba(60, 64, 67, 0.15);\n",
              "    fill: #174EA6;\n",
              "  }\n",
              "\n",
              "  [theme=dark] .colab-df-quickchart {\n",
              "    background-color: #3B4455;\n",
              "    fill: #D2E3FC;\n",
              "  }\n",
              "\n",
              "  [theme=dark] .colab-df-quickchart:hover {\n",
              "    background-color: #434B5C;\n",
              "    box-shadow: 0px 1px 3px 1px rgba(0, 0, 0, 0.15);\n",
              "    filter: drop-shadow(0px 1px 2px rgba(0, 0, 0, 0.3));\n",
              "    fill: #FFFFFF;\n",
              "  }\n",
              "</style>\n",
              "\n",
              "    <script>\n",
              "      async function quickchart(key) {\n",
              "        const containerElement = document.querySelector('#' + key);\n",
              "        const charts = await google.colab.kernel.invokeFunction(\n",
              "            'suggestCharts', [key], {});\n",
              "      }\n",
              "    </script>\n",
              "\n",
              "      <script>\n",
              "\n",
              "function displayQuickchartButton(domScope) {\n",
              "  let quickchartButtonEl =\n",
              "    domScope.querySelector('#df-28b4337f-fa08-42fc-a0f7-a50f21cce5a5 button.colab-df-quickchart');\n",
              "  quickchartButtonEl.style.display =\n",
              "    google.colab.kernel.accessAllowed ? 'block' : 'none';\n",
              "}\n",
              "\n",
              "        displayQuickchartButton(document);\n",
              "      </script>\n",
              "      <style>\n",
              "    .colab-df-container {\n",
              "      display:flex;\n",
              "      flex-wrap:wrap;\n",
              "      gap: 12px;\n",
              "    }\n",
              "\n",
              "    .colab-df-convert {\n",
              "      background-color: #E8F0FE;\n",
              "      border: none;\n",
              "      border-radius: 50%;\n",
              "      cursor: pointer;\n",
              "      display: none;\n",
              "      fill: #1967D2;\n",
              "      height: 32px;\n",
              "      padding: 0 0 0 0;\n",
              "      width: 32px;\n",
              "    }\n",
              "\n",
              "    .colab-df-convert:hover {\n",
              "      background-color: #E2EBFA;\n",
              "      box-shadow: 0px 1px 2px rgba(60, 64, 67, 0.3), 0px 1px 3px 1px rgba(60, 64, 67, 0.15);\n",
              "      fill: #174EA6;\n",
              "    }\n",
              "\n",
              "    [theme=dark] .colab-df-convert {\n",
              "      background-color: #3B4455;\n",
              "      fill: #D2E3FC;\n",
              "    }\n",
              "\n",
              "    [theme=dark] .colab-df-convert:hover {\n",
              "      background-color: #434B5C;\n",
              "      box-shadow: 0px 1px 3px 1px rgba(0, 0, 0, 0.15);\n",
              "      filter: drop-shadow(0px 1px 2px rgba(0, 0, 0, 0.3));\n",
              "      fill: #FFFFFF;\n",
              "    }\n",
              "  </style>\n",
              "\n",
              "      <script>\n",
              "        const buttonEl =\n",
              "          document.querySelector('#df-2b941cfb-8948-462d-9792-849a96208a0c button.colab-df-convert');\n",
              "        buttonEl.style.display =\n",
              "          google.colab.kernel.accessAllowed ? 'block' : 'none';\n",
              "\n",
              "        async function convertToInteractive(key) {\n",
              "          const element = document.querySelector('#df-2b941cfb-8948-462d-9792-849a96208a0c');\n",
              "          const dataTable =\n",
              "            await google.colab.kernel.invokeFunction('convertToInteractive',\n",
              "                                                     [key], {});\n",
              "          if (!dataTable) return;\n",
              "\n",
              "          const docLinkHtml = 'Like what you see? Visit the ' +\n",
              "            '<a target=\"_blank\" href=https://colab.research.google.com/notebooks/data_table.ipynb>data table notebook</a>'\n",
              "            + ' to learn more about interactive tables.';\n",
              "          element.innerHTML = '';\n",
              "          dataTable['output_type'] = 'display_data';\n",
              "          await google.colab.output.renderOutput(dataTable, element);\n",
              "          const docLink = document.createElement('div');\n",
              "          docLink.innerHTML = docLinkHtml;\n",
              "          element.appendChild(docLink);\n",
              "        }\n",
              "      </script>\n",
              "    </div>\n",
              "  </div>\n"
            ]
          },
          "metadata": {},
          "execution_count": 17
        }
      ]
    },
    {
      "cell_type": "markdown",
      "source": [
        "# Extract Features"
      ],
      "metadata": {
        "id": "4cxxPU-fJAdN"
      }
    },
    {
      "cell_type": "code",
      "source": [
        "# Create a LabelEncoder object\n",
        "encoder = LabelEncoder()\n",
        "\n",
        "# Fit the encoder to the labels and transform the labels\n",
        "df[\"label\"] = encoder.fit_transform(df[\"label\"])"
      ],
      "metadata": {
        "id": "sW1f5pGuxoS1"
      },
      "execution_count": null,
      "outputs": []
    },
    {
      "cell_type": "code",
      "execution_count": null,
      "metadata": {
        "id": "s_aEApOIJC05"
      },
      "outputs": [],
      "source": [
        "from sklearn.feature_extraction.text import TfidfVectorizer, CountVectorizer"
      ]
    },
    {
      "cell_type": "code",
      "execution_count": null,
      "metadata": {
        "id": "u9avPjtjMxCl"
      },
      "outputs": [],
      "source": [
        "tdidf_vect= TfidfVectorizer()\n",
        "tdidf = tdidf_vect.fit_transform(df['clean_text'])\n",
        "\n",
        "features_tdidf = pd.DataFrame(tdidf.toarray())\n",
        "features_tdidf.columns = tdidf_vect.get_feature_names_out()"
      ]
    },
    {
      "cell_type": "markdown",
      "source": [
        "# Machine Learning Model\n"
      ],
      "metadata": {
        "id": "au8yZqHg4ed8"
      }
    },
    {
      "cell_type": "code",
      "source": [
        "labels = df['label']\n",
        "features = pd.concat( [features_tdidf], axis=1)\n",
        "features.shape"
      ],
      "metadata": {
        "colab": {
          "base_uri": "https://localhost:8080/"
        },
        "id": "tQVzIol21p8i",
        "outputId": "0bd52dc1-7ed1-489e-89c8-4f6df0430970"
      },
      "execution_count": null,
      "outputs": [
        {
          "output_type": "execute_result",
          "data": {
            "text/plain": [
              "(4000, 330)"
            ]
          },
          "metadata": {},
          "execution_count": 21
        }
      ]
    },
    {
      "cell_type": "markdown",
      "source": [
        "## Split Data"
      ],
      "metadata": {
        "id": "iTTTUivW1Jf_"
      }
    },
    {
      "cell_type": "code",
      "source": [
        "from sklearn.model_selection import train_test_split\n",
        "x_train, x_test, y_train, y_test = train_test_split(features, labels, test_size=0.25)\n",
        "print(x_train.shape, x_test.shape, y_train.shape, y_test.shape)"
      ],
      "metadata": {
        "colab": {
          "base_uri": "https://localhost:8080/"
        },
        "id": "0BCc1v9Z1MIB",
        "outputId": "3b635a7f-f06a-416b-d62a-afbd475205d8"
      },
      "execution_count": null,
      "outputs": [
        {
          "output_type": "stream",
          "name": "stdout",
          "text": [
            "(3000, 330) (1000, 330) (3000,) (1000,)\n"
          ]
        }
      ]
    },
    {
      "cell_type": "markdown",
      "metadata": {
        "id": "icVn7ROWSS0c"
      },
      "source": [
        "## Selection Method"
      ]
    },
    {
      "cell_type": "markdown",
      "metadata": {
        "id": "4h6p2KEsSXx5"
      },
      "source": [
        "### Random Forest"
      ]
    },
    {
      "cell_type": "code",
      "execution_count": null,
      "metadata": {
        "colab": {
          "base_uri": "https://localhost:8080/"
        },
        "id": "e0mWwn54nEga",
        "outputId": "4becd2fc-d947-42e8-e3dc-b496ce858490"
      },
      "outputs": [
        {
          "output_type": "stream",
          "name": "stdout",
          "text": [
            "1.0\n"
          ]
        }
      ],
      "source": [
        "from sklearn.ensemble import RandomForestClassifier\n",
        "model = RandomForestClassifier(n_jobs=-1)\n",
        "model.fit(x_train, y_train)\n",
        "print(model.score(x_test, y_test))"
      ]
    },
    {
      "cell_type": "markdown",
      "metadata": {
        "id": "2x-dWXRxSduN"
      },
      "source": [
        "### Naive Bayes"
      ]
    },
    {
      "cell_type": "code",
      "execution_count": null,
      "metadata": {
        "colab": {
          "base_uri": "https://localhost:8080/"
        },
        "id": "aBXQfPdsF1b1",
        "outputId": "baf5db5c-accb-4ec6-a870-408df2f7a09d"
      },
      "outputs": [
        {
          "output_type": "stream",
          "name": "stdout",
          "text": [
            "0.988\n"
          ]
        }
      ],
      "source": [
        "from sklearn.naive_bayes import MultinomialNB\n",
        "NBmodel = MultinomialNB()\n",
        "NBmodel.fit(x_train, y_train)\n",
        "print(NBmodel.score(x_test, y_test))"
      ]
    },
    {
      "cell_type": "markdown",
      "metadata": {
        "id": "ZhPo6HzhSmBY"
      },
      "source": [
        "### SVC"
      ]
    },
    {
      "cell_type": "code",
      "execution_count": null,
      "metadata": {
        "id": "pgR7GDVkF-3s",
        "colab": {
          "base_uri": "https://localhost:8080/"
        },
        "outputId": "9a42ddfe-0b8a-46e7-86e6-429834e278c7"
      },
      "outputs": [
        {
          "output_type": "stream",
          "name": "stdout",
          "text": [
            "1.0\n"
          ]
        }
      ],
      "source": [
        "from sklearn import model_selection, naive_bayes, svm\n",
        "\n",
        "SVM_model = svm.SVC(C=1.0, kernel='linear', degree=3, gamma='auto')\n",
        "SVM_model.fit(x_train, y_train)\n",
        "print(SVM_model.score(x_test, y_test))"
      ]
    },
    {
      "cell_type": "code",
      "source": [
        "df"
      ],
      "metadata": {
        "colab": {
          "base_uri": "https://localhost:8080/",
          "height": 485
        },
        "id": "bENAwItm1fyt",
        "outputId": "15c88828-66bf-4a21-e829-2900438a52d4"
      },
      "execution_count": null,
      "outputs": [
        {
          "output_type": "execute_result",
          "data": {
            "text/plain": [
              "                                                                                                                                                                                                               Report  \\\n",
              "0                                                                                             This is John Doe from 9999 Ash Street. There's a multi-car pileup on the highway. It looks like there might be injuries   \n",
              "1                                                                                                                         Hello, I'm Jane Smith at 123 Main Street. I've just witnessed a car crash into a shop front   \n",
              "2                                                                                                            Help, I'm Isabella Jackson and I'm calling from 789 Pine Lane. A car just hit a pedestrian and drove off   \n",
              "3                                                                                                        Hello, this is Robert Johnson at 2345 Hickory Street. I just saw a car hit a cyclist. The driver didn't stop   \n",
              "4                                                                                                                            Emergency, this is Olivia Taylor from 789 Pine Lane. I just saw a car crash into a fence   \n",
              "...                                                                                                                                                                                                               ...   \n",
              "3995                                                                                                 Emergency, this is Amelia Thompson from 7777 Hemlock Circle. I just saw a group of people robbing a liquor store   \n",
              "3996                                                                                                                        Help, my name is James Brown. I'm at 5555 Walnut Street and my house was just broken into   \n",
              "3997                                                                                  Help, my name is Liam Williams. I'm at 8888 Alder Court and my purse was just snatched. A man on a bike grabbed it and rode off   \n",
              "3998  This is Emily Davis from 3456 Locust Way. I work at the bank and we've just been robbed. A man with a gun demanded all the money and then he fled the scene. I'm scared for my life and I don't know what to do   \n",
              "3999                                                                                                             Help, I'm Charlotte Martin and I'm calling from 1289 Birch Parkway. I just saw a man stealing a bike   \n",
              "\n",
              "      label  \\\n",
              "0         0   \n",
              "1         0   \n",
              "2         0   \n",
              "3         0   \n",
              "4         0   \n",
              "...     ...   \n",
              "3995      3   \n",
              "3996      3   \n",
              "3997      3   \n",
              "3998      3   \n",
              "3999      3   \n",
              "\n",
              "                                                                                            clean_text  \n",
              "0                             john doe ash street there multicar pileup highway look like might injuri  \n",
              "1                                         hello im jane smith main street ive wit car crash shop front  \n",
              "2                                  help im isabella jackson im call pine lane car hit pedestrian drove  \n",
              "3                            hello robert johnson hickori street saw car hit cyclist driver didnt stop  \n",
              "4                                                     emerg olivia taylor pine lane saw car crash fenc  \n",
              "...                                                                                                ...  \n",
              "3995                              emerg amelia thompson hemlock circl saw group peopl rob liquor store  \n",
              "3996                                                 help name jame brown im walnut street hous broken  \n",
              "3997                              help name liam william im alder court purs snatch man bike grab rode  \n",
              "3998  emili davi locust way work bank weve rob man gun demand money fled scene im scare life dont know  \n",
              "3999                                  help im charlott martin im call birch parkway saw man steal bike  \n",
              "\n",
              "[4000 rows x 3 columns]"
            ],
            "text/html": [
              "\n",
              "\n",
              "  <div id=\"df-39470fa6-03b7-4c45-8f2d-44adafbf4cc5\">\n",
              "    <div class=\"colab-df-container\">\n",
              "      <div>\n",
              "<style scoped>\n",
              "    .dataframe tbody tr th:only-of-type {\n",
              "        vertical-align: middle;\n",
              "    }\n",
              "\n",
              "    .dataframe tbody tr th {\n",
              "        vertical-align: top;\n",
              "    }\n",
              "\n",
              "    .dataframe thead th {\n",
              "        text-align: right;\n",
              "    }\n",
              "</style>\n",
              "<table border=\"1\" class=\"dataframe\">\n",
              "  <thead>\n",
              "    <tr style=\"text-align: right;\">\n",
              "      <th></th>\n",
              "      <th>Report</th>\n",
              "      <th>label</th>\n",
              "      <th>clean_text</th>\n",
              "    </tr>\n",
              "  </thead>\n",
              "  <tbody>\n",
              "    <tr>\n",
              "      <th>0</th>\n",
              "      <td>This is John Doe from 9999 Ash Street. There's a multi-car pileup on the highway. It looks like there might be injuries</td>\n",
              "      <td>0</td>\n",
              "      <td>john doe ash street there multicar pileup highway look like might injuri</td>\n",
              "    </tr>\n",
              "    <tr>\n",
              "      <th>1</th>\n",
              "      <td>Hello, I'm Jane Smith at 123 Main Street. I've just witnessed a car crash into a shop front</td>\n",
              "      <td>0</td>\n",
              "      <td>hello im jane smith main street ive wit car crash shop front</td>\n",
              "    </tr>\n",
              "    <tr>\n",
              "      <th>2</th>\n",
              "      <td>Help, I'm Isabella Jackson and I'm calling from 789 Pine Lane. A car just hit a pedestrian and drove off</td>\n",
              "      <td>0</td>\n",
              "      <td>help im isabella jackson im call pine lane car hit pedestrian drove</td>\n",
              "    </tr>\n",
              "    <tr>\n",
              "      <th>3</th>\n",
              "      <td>Hello, this is Robert Johnson at 2345 Hickory Street. I just saw a car hit a cyclist. The driver didn't stop</td>\n",
              "      <td>0</td>\n",
              "      <td>hello robert johnson hickori street saw car hit cyclist driver didnt stop</td>\n",
              "    </tr>\n",
              "    <tr>\n",
              "      <th>4</th>\n",
              "      <td>Emergency, this is Olivia Taylor from 789 Pine Lane. I just saw a car crash into a fence</td>\n",
              "      <td>0</td>\n",
              "      <td>emerg olivia taylor pine lane saw car crash fenc</td>\n",
              "    </tr>\n",
              "    <tr>\n",
              "      <th>...</th>\n",
              "      <td>...</td>\n",
              "      <td>...</td>\n",
              "      <td>...</td>\n",
              "    </tr>\n",
              "    <tr>\n",
              "      <th>3995</th>\n",
              "      <td>Emergency, this is Amelia Thompson from 7777 Hemlock Circle. I just saw a group of people robbing a liquor store</td>\n",
              "      <td>3</td>\n",
              "      <td>emerg amelia thompson hemlock circl saw group peopl rob liquor store</td>\n",
              "    </tr>\n",
              "    <tr>\n",
              "      <th>3996</th>\n",
              "      <td>Help, my name is James Brown. I'm at 5555 Walnut Street and my house was just broken into</td>\n",
              "      <td>3</td>\n",
              "      <td>help name jame brown im walnut street hous broken</td>\n",
              "    </tr>\n",
              "    <tr>\n",
              "      <th>3997</th>\n",
              "      <td>Help, my name is Liam Williams. I'm at 8888 Alder Court and my purse was just snatched. A man on a bike grabbed it and rode off</td>\n",
              "      <td>3</td>\n",
              "      <td>help name liam william im alder court purs snatch man bike grab rode</td>\n",
              "    </tr>\n",
              "    <tr>\n",
              "      <th>3998</th>\n",
              "      <td>This is Emily Davis from 3456 Locust Way. I work at the bank and we've just been robbed. A man with a gun demanded all the money and then he fled the scene. I'm scared for my life and I don't know what to do</td>\n",
              "      <td>3</td>\n",
              "      <td>emili davi locust way work bank weve rob man gun demand money fled scene im scare life dont know</td>\n",
              "    </tr>\n",
              "    <tr>\n",
              "      <th>3999</th>\n",
              "      <td>Help, I'm Charlotte Martin and I'm calling from 1289 Birch Parkway. I just saw a man stealing a bike</td>\n",
              "      <td>3</td>\n",
              "      <td>help im charlott martin im call birch parkway saw man steal bike</td>\n",
              "    </tr>\n",
              "  </tbody>\n",
              "</table>\n",
              "<p>4000 rows × 3 columns</p>\n",
              "</div>\n",
              "      <button class=\"colab-df-convert\" onclick=\"convertToInteractive('df-39470fa6-03b7-4c45-8f2d-44adafbf4cc5')\"\n",
              "              title=\"Convert this dataframe to an interactive table.\"\n",
              "              style=\"display:none;\">\n",
              "\n",
              "  <svg xmlns=\"http://www.w3.org/2000/svg\" height=\"24px\"viewBox=\"0 0 24 24\"\n",
              "       width=\"24px\">\n",
              "    <path d=\"M0 0h24v24H0V0z\" fill=\"none\"/>\n",
              "    <path d=\"M18.56 5.44l.94 2.06.94-2.06 2.06-.94-2.06-.94-.94-2.06-.94 2.06-2.06.94zm-11 1L8.5 8.5l.94-2.06 2.06-.94-2.06-.94L8.5 2.5l-.94 2.06-2.06.94zm10 10l.94 2.06.94-2.06 2.06-.94-2.06-.94-.94-2.06-.94 2.06-2.06.94z\"/><path d=\"M17.41 7.96l-1.37-1.37c-.4-.4-.92-.59-1.43-.59-.52 0-1.04.2-1.43.59L10.3 9.45l-7.72 7.72c-.78.78-.78 2.05 0 2.83L4 21.41c.39.39.9.59 1.41.59.51 0 1.02-.2 1.41-.59l7.78-7.78 2.81-2.81c.8-.78.8-2.07 0-2.86zM5.41 20L4 18.59l7.72-7.72 1.47 1.35L5.41 20z\"/>\n",
              "  </svg>\n",
              "      </button>\n",
              "\n",
              "\n",
              "\n",
              "    <div id=\"df-09002052-b38f-48ce-a946-38b26f750852\">\n",
              "      <button class=\"colab-df-quickchart\" onclick=\"quickchart('df-09002052-b38f-48ce-a946-38b26f750852')\"\n",
              "              title=\"Suggest charts.\"\n",
              "              style=\"display:none;\">\n",
              "\n",
              "<svg xmlns=\"http://www.w3.org/2000/svg\" height=\"24px\"viewBox=\"0 0 24 24\"\n",
              "     width=\"24px\">\n",
              "    <g>\n",
              "        <path d=\"M19 3H5c-1.1 0-2 .9-2 2v14c0 1.1.9 2 2 2h14c1.1 0 2-.9 2-2V5c0-1.1-.9-2-2-2zM9 17H7v-7h2v7zm4 0h-2V7h2v10zm4 0h-2v-4h2v4z\"/>\n",
              "    </g>\n",
              "</svg>\n",
              "      </button>\n",
              "    </div>\n",
              "\n",
              "<style>\n",
              "  .colab-df-quickchart {\n",
              "    background-color: #E8F0FE;\n",
              "    border: none;\n",
              "    border-radius: 50%;\n",
              "    cursor: pointer;\n",
              "    display: none;\n",
              "    fill: #1967D2;\n",
              "    height: 32px;\n",
              "    padding: 0 0 0 0;\n",
              "    width: 32px;\n",
              "  }\n",
              "\n",
              "  .colab-df-quickchart:hover {\n",
              "    background-color: #E2EBFA;\n",
              "    box-shadow: 0px 1px 2px rgba(60, 64, 67, 0.3), 0px 1px 3px 1px rgba(60, 64, 67, 0.15);\n",
              "    fill: #174EA6;\n",
              "  }\n",
              "\n",
              "  [theme=dark] .colab-df-quickchart {\n",
              "    background-color: #3B4455;\n",
              "    fill: #D2E3FC;\n",
              "  }\n",
              "\n",
              "  [theme=dark] .colab-df-quickchart:hover {\n",
              "    background-color: #434B5C;\n",
              "    box-shadow: 0px 1px 3px 1px rgba(0, 0, 0, 0.15);\n",
              "    filter: drop-shadow(0px 1px 2px rgba(0, 0, 0, 0.3));\n",
              "    fill: #FFFFFF;\n",
              "  }\n",
              "</style>\n",
              "\n",
              "    <script>\n",
              "      async function quickchart(key) {\n",
              "        const containerElement = document.querySelector('#' + key);\n",
              "        const charts = await google.colab.kernel.invokeFunction(\n",
              "            'suggestCharts', [key], {});\n",
              "      }\n",
              "    </script>\n",
              "\n",
              "      <script>\n",
              "\n",
              "function displayQuickchartButton(domScope) {\n",
              "  let quickchartButtonEl =\n",
              "    domScope.querySelector('#df-09002052-b38f-48ce-a946-38b26f750852 button.colab-df-quickchart');\n",
              "  quickchartButtonEl.style.display =\n",
              "    google.colab.kernel.accessAllowed ? 'block' : 'none';\n",
              "}\n",
              "\n",
              "        displayQuickchartButton(document);\n",
              "      </script>\n",
              "      <style>\n",
              "    .colab-df-container {\n",
              "      display:flex;\n",
              "      flex-wrap:wrap;\n",
              "      gap: 12px;\n",
              "    }\n",
              "\n",
              "    .colab-df-convert {\n",
              "      background-color: #E8F0FE;\n",
              "      border: none;\n",
              "      border-radius: 50%;\n",
              "      cursor: pointer;\n",
              "      display: none;\n",
              "      fill: #1967D2;\n",
              "      height: 32px;\n",
              "      padding: 0 0 0 0;\n",
              "      width: 32px;\n",
              "    }\n",
              "\n",
              "    .colab-df-convert:hover {\n",
              "      background-color: #E2EBFA;\n",
              "      box-shadow: 0px 1px 2px rgba(60, 64, 67, 0.3), 0px 1px 3px 1px rgba(60, 64, 67, 0.15);\n",
              "      fill: #174EA6;\n",
              "    }\n",
              "\n",
              "    [theme=dark] .colab-df-convert {\n",
              "      background-color: #3B4455;\n",
              "      fill: #D2E3FC;\n",
              "    }\n",
              "\n",
              "    [theme=dark] .colab-df-convert:hover {\n",
              "      background-color: #434B5C;\n",
              "      box-shadow: 0px 1px 3px 1px rgba(0, 0, 0, 0.15);\n",
              "      filter: drop-shadow(0px 1px 2px rgba(0, 0, 0, 0.3));\n",
              "      fill: #FFFFFF;\n",
              "    }\n",
              "  </style>\n",
              "\n",
              "      <script>\n",
              "        const buttonEl =\n",
              "          document.querySelector('#df-39470fa6-03b7-4c45-8f2d-44adafbf4cc5 button.colab-df-convert');\n",
              "        buttonEl.style.display =\n",
              "          google.colab.kernel.accessAllowed ? 'block' : 'none';\n",
              "\n",
              "        async function convertToInteractive(key) {\n",
              "          const element = document.querySelector('#df-39470fa6-03b7-4c45-8f2d-44adafbf4cc5');\n",
              "          const dataTable =\n",
              "            await google.colab.kernel.invokeFunction('convertToInteractive',\n",
              "                                                     [key], {});\n",
              "          if (!dataTable) return;\n",
              "\n",
              "          const docLinkHtml = 'Like what you see? Visit the ' +\n",
              "            '<a target=\"_blank\" href=https://colab.research.google.com/notebooks/data_table.ipynb>data table notebook</a>'\n",
              "            + ' to learn more about interactive tables.';\n",
              "          element.innerHTML = '';\n",
              "          dataTable['output_type'] = 'display_data';\n",
              "          await google.colab.output.renderOutput(dataTable, element);\n",
              "          const docLink = document.createElement('div');\n",
              "          docLink.innerHTML = docLinkHtml;\n",
              "          element.appendChild(docLink);\n",
              "        }\n",
              "      </script>\n",
              "    </div>\n",
              "  </div>\n"
            ]
          },
          "metadata": {},
          "execution_count": 26
        }
      ]
    },
    {
      "cell_type": "markdown",
      "source": [
        "# Prediction"
      ],
      "metadata": {
        "id": "fESK_vUo4ELJ"
      }
    },
    {
      "cell_type": "code",
      "source": [
        "new_text = input(\"enter the text:\")\n",
        "\n",
        "# Preprocess the new text\n",
        "print(\"The Original Text: \",new_text)\n",
        "#new_text=clean_string(new_text)\n",
        "new_text = clean_text(new_text)\n",
        "print(\"The Cleaned Text: \",new_text)\n",
        "# Vectorize the new text using the same vectorizer\n",
        "new_text_vectorized = tdidf_vect.transform([new_text])\n",
        "\n",
        "\n",
        "# Make the prediction\n",
        "prediction = model.predict(new_text_vectorized)\n",
        "\n",
        "# Make the prediction\n",
        "prediction_proba = model.predict_proba(new_text_vectorized)\n",
        "\n",
        "# Get the probability of the predicted class label\n",
        "# Convert the predicted class label to an integer\n",
        "class_index = prediction[0]\n",
        "\n",
        "# if class_index== \"car accidents\":\n",
        "#   p = 1\n",
        "# elif class_index== \"crime\":\n",
        "#   p = 2\n",
        "# elif class_index== \"fire\":\n",
        "#   p = 3\n",
        "# else:\n",
        "#   p=4\n",
        "\n",
        "# Get the probability of the predicted class label\n",
        "confidence = prediction_proba[0, class_index]\n",
        "\n",
        "# Convert the prediction to the corresponding class label\n",
        "if prediction[0]== 0:\n",
        "  p = \"car accidents\"\n",
        "elif prediction[0]== 1:\n",
        "  p= \"crime\"\n",
        "elif prediction[0]== 2:\n",
        "  p = \"fire\"\n",
        "else:\n",
        "  p= \"robbery\"\n",
        "\n",
        "print(\"Predicted class label:\", p)\n",
        "print(\"Confidence:\", confidence)"
      ],
      "metadata": {
        "id": "X6t87bPl2n9Q",
        "colab": {
          "base_uri": "https://localhost:8080/"
        },
        "outputId": "943f8f79-5e64-4031-f5a7-0ccf956ab333"
      },
      "execution_count": null,
      "outputs": [
        {
          "output_type": "stream",
          "name": "stdout",
          "text": [
            "enter the text:my pan had caught fire\n",
            "The Original Text:  my pan had caught fire\n",
            "The Cleaned Text:  pan caught fire\n",
            "Predicted class label: fire\n",
            "Confidence: 0.84\n"
          ]
        },
        {
          "output_type": "stream",
          "name": "stderr",
          "text": [
            "/usr/local/lib/python3.10/dist-packages/sklearn/base.py:439: UserWarning: X does not have valid feature names, but RandomForestClassifier was fitted with feature names\n",
            "  warnings.warn(\n"
          ]
        }
      ]
    },
    {
      "cell_type": "code",
      "source": [
        "import joblib\n",
        "\n",
        "# save the model\n",
        "joblib.dump(model, 'kullanaAmn1.pkl')\n"
      ],
      "metadata": {
        "colab": {
          "base_uri": "https://localhost:8080/"
        },
        "id": "kK-DwsUT1ceo",
        "outputId": "4ba91917-fe78-473e-8a29-72d27563f675"
      },
      "execution_count": null,
      "outputs": [
        {
          "output_type": "execute_result",
          "data": {
            "text/plain": [
              "['kullanaAmn1.pkl']"
            ]
          },
          "metadata": {},
          "execution_count": 31
        }
      ]
    },
    {
      "cell_type": "code",
      "source": [
        "pip install joblib\n"
      ],
      "metadata": {
        "colab": {
          "base_uri": "https://localhost:8080/"
        },
        "id": "FhgC8KW22Hhe",
        "outputId": "86bd3cb3-e434-4463-d334-85dd1c3b1d70"
      },
      "execution_count": null,
      "outputs": [
        {
          "output_type": "stream",
          "name": "stdout",
          "text": [
            "Requirement already satisfied: joblib in /usr/local/lib/python3.10/dist-packages (1.3.1)\n"
          ]
        }
      ]
    },
    {
      "cell_type": "code",
      "source": [
        "from sklearn.feature_extraction.text import TfidfVectorizer\n",
        "import joblib\n",
        "\n",
        "# your cleaned text data\n",
        "cleaned_text_data = df['clean_text']\n",
        "\n",
        "# Initialize TfidfVectorizer and transform your text data\n",
        "vectorizer = TfidfVectorizer()\n",
        "X = vectorizer.fit_transform(cleaned_text_data)\n",
        "\n",
        "# Save the fitted vectorizer to a file\n",
        "joblib.dump(vectorizer, 'vectorizer_filename.pkl')"
      ],
      "metadata": {
        "colab": {
          "base_uri": "https://localhost:8080/"
        },
        "id": "QwrQGmzH2MsT",
        "outputId": "bea4e512-1e43-494d-c977-8eca4363e375"
      },
      "execution_count": null,
      "outputs": [
        {
          "output_type": "execute_result",
          "data": {
            "text/plain": [
              "['vectorizer_filename.pkl']"
            ]
          },
          "metadata": {},
          "execution_count": 32
        }
      ]
    }
  ]
}